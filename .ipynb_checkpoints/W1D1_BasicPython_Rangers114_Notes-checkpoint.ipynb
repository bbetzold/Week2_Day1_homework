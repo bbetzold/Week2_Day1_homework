{
 "cells": [
  {
   "cell_type": "markdown",
   "metadata": {},
   "source": [
    "# Week 2 - Monday Lesson (variable assignment, loops, lists)"
   ]
  },
  {
   "cell_type": "markdown",
   "metadata": {},
   "source": [
    "## Tasks Today:\n",
    "\n",
    "1) Int & Float assignments <br>\n",
    " &nbsp;&nbsp;&nbsp;&nbsp; a) Assigning int <br>\n",
    " &nbsp;&nbsp;&nbsp;&nbsp; b) Assigning float <br>\n",
    " &nbsp;&nbsp;&nbsp;&nbsp; c) Performing Calculations on ints and floats <br>\n",
    " &nbsp;&nbsp;&nbsp;&nbsp;&nbsp;&nbsp;&nbsp;&nbsp; - Addition <br>\n",
    " &nbsp;&nbsp;&nbsp;&nbsp;&nbsp;&nbsp;&nbsp;&nbsp; - Subtraction <br>\n",
    " &nbsp;&nbsp;&nbsp;&nbsp;&nbsp;&nbsp;&nbsp;&nbsp; - Multiplication <br>\n",
    " &nbsp;&nbsp;&nbsp;&nbsp;&nbsp;&nbsp;&nbsp;&nbsp; - Division <br>\n",
    " &nbsp;&nbsp;&nbsp;&nbsp;&nbsp;&nbsp;&nbsp;&nbsp; - Floor Division <br>\n",
    " &nbsp;&nbsp;&nbsp;&nbsp;&nbsp;&nbsp;&nbsp;&nbsp; - Modulo <br>\n",
    " &nbsp;&nbsp;&nbsp;&nbsp;&nbsp;&nbsp;&nbsp;&nbsp; - Exponential <br>\n",
    "2) String Input-Output <br>\n",
    " &nbsp;&nbsp;&nbsp;&nbsp; a) String Assignment <br>\n",
    " &nbsp;&nbsp;&nbsp;&nbsp; b) print() <br>\n",
    " &nbsp;&nbsp;&nbsp;&nbsp; c) String Concatenation <br>\n",
    " &nbsp;&nbsp;&nbsp;&nbsp; d) Type Conversion <br>\n",
    " &nbsp;&nbsp;&nbsp;&nbsp; e) input() <br>\n",
    " &nbsp;&nbsp;&nbsp;&nbsp; f) format() <br>\n",
    " &nbsp;&nbsp;&nbsp;&nbsp; g) Old Way (python 2) <br>\n",
    "3) <b>In-Class Exercise #1</b> <br>\n",
    "4) If Statements <br>\n",
    " &nbsp;&nbsp;&nbsp;&nbsp; a) 'is' keyword <br>\n",
    " &nbsp;&nbsp;&nbsp;&nbsp; b) 'in' keyword <br>\n",
    " &nbsp;&nbsp;&nbsp;&nbsp; c) 'not in' keyword <br>\n",
    "5) <b>In-Class Exercise #2</b> <br>\n",
    "6) Elif Statements <br>\n",
    "7) Else Statements <br>\n",
    "8) <b>In-Class Exercise #3</b> <br>\n",
    "9) Built-In Functions <br>\n",
    "\n",
    " &nbsp;&nbsp;&nbsp;&nbsp; b) len() <br>\n",
    " &nbsp;&nbsp;&nbsp;&nbsp; c) help() <br>\n",
    " &nbsp;&nbsp;&nbsp;&nbsp; d) isinstance() <br>\n",
    " &nbsp;&nbsp;&nbsp;&nbsp; e) abs() <br>\n",
    "10) Try and Except <br>\n"
   ]
  },
  {
   "cell_type": "markdown",
   "metadata": {},
   "source": [
    "### Int & Float Assignments"
   ]
  },
  {
   "cell_type": "markdown",
   "metadata": {},
   "source": [
    "##### Assigning int"
   ]
  },
  {
   "cell_type": "code",
   "execution_count": null,
   "metadata": {},
   "outputs": [],
   "source": [
    "number = 6\n",
    "print (number)\n",
    "elephants = 21\n",
    "print (elephants)"
   ]
  },
  {
   "cell_type": "markdown",
   "metadata": {},
   "source": [
    "##### Assigning float"
   ]
  },
  {
   "cell_type": "code",
   "execution_count": null,
   "metadata": {},
   "outputs": [],
   "source": []
  },
  {
   "cell_type": "markdown",
   "metadata": {},
   "source": [
    "#### Performing Calculations on ints and floats"
   ]
  },
  {
   "cell_type": "markdown",
   "metadata": {},
   "source": [
    "##### Addition"
   ]
  },
  {
   "cell_type": "code",
   "execution_count": null,
   "metadata": {
    "scrolled": true
   },
   "outputs": [],
   "source": [
    "num1 = 3\n",
    "num2 = 7\n",
    "\n",
    "print(num1 + num2)\n",
    "result= num1 + num2\n",
    "\n",
    "print(result)"
   ]
  },
  {
   "cell_type": "code",
   "execution_count": null,
   "metadata": {},
   "outputs": [],
   "source": [
    "num3 = 15\n",
    "num4 = 2\n",
    "\n",
    "result = num3 + num4\n",
    "\n",
    "print(result)\n",
    "\n",
    "result += num4\n",
    "\n",
    "print(result)"
   ]
  },
  {
   "cell_type": "markdown",
   "metadata": {},
   "source": [
    "##### Subtraction"
   ]
  },
  {
   "cell_type": "code",
   "execution_count": null,
   "metadata": {},
   "outputs": [],
   "source": [
    "num3 = 15\n",
    "num4 = 2\n",
    "\n",
    "print(num3 - num4)\n",
    "\n",
    "result = num3 - num4\n",
    "\n",
    "print(result)\n",
    "\n",
    "result -= num4\n",
    "\n",
    "print(result)"
   ]
  },
  {
   "cell_type": "markdown",
   "metadata": {},
   "source": [
    "##### Multiplication"
   ]
  },
  {
   "cell_type": "code",
   "execution_count": null,
   "metadata": {},
   "outputs": [],
   "source": [
    "num1 = 10\n",
    "num2 = 4.7\n",
    "\n",
    "product = num1 * num2\n",
    "print(product)\n",
    "\n",
    "product *= 2\n",
    "\n",
    "print(product)"
   ]
  },
  {
   "cell_type": "code",
   "execution_count": null,
   "metadata": {
    "scrolled": true
   },
   "outputs": [],
   "source": [
    "print(10*2)"
   ]
  },
  {
   "cell_type": "code",
   "execution_count": null,
   "metadata": {},
   "outputs": [],
   "source": [
    "num1 = 10\n",
    "num2 = 4.7\n",
    "\n",
    "product = num1 * num2\n",
    "print(product)\n",
    "\n",
    "# Same as product = product * 2\n",
    "product *= 2\n",
    "\n",
    "print(product)"
   ]
  },
  {
   "cell_type": "markdown",
   "metadata": {},
   "source": [
    "##### Division"
   ]
  },
  {
   "cell_type": "code",
   "execution_count": null,
   "metadata": {},
   "outputs": [],
   "source": [
    "num1 = 45\n",
    "num2 = 9\n",
    "\n",
    "quotient = num1/num2\n",
    "print(quotient)"
   ]
  },
  {
   "cell_type": "code",
   "execution_count": null,
   "metadata": {},
   "outputs": [],
   "source": [
    "num1 = 45\n",
    "\n",
    "num1 /= 3\n",
    "\n",
    "print(num1)"
   ]
  },
  {
   "cell_type": "markdown",
   "metadata": {},
   "source": [
    "##### Floor Division"
   ]
  },
  {
   "cell_type": "code",
   "execution_count": null,
   "metadata": {
    "scrolled": true
   },
   "outputs": [],
   "source": [
    "num1 = 5\n",
    "num2 = 2\n",
    "\n",
    "floored = num1//num2\n",
    "\n",
    "print(floored)"
   ]
  },
  {
   "cell_type": "code",
   "execution_count": null,
   "metadata": {
    "scrolled": true
   },
   "outputs": [],
   "source": [
    "num1 = 5\n",
    "num2 = 2\n",
    "\n",
    "quotient = num1/num2\n",
    "\n",
    "print(quotient)"
   ]
  },
  {
   "cell_type": "markdown",
   "metadata": {},
   "source": [
    "##### Modulo"
   ]
  },
  {
   "cell_type": "code",
   "execution_count": null,
   "metadata": {},
   "outputs": [],
   "source": [
    "num1 = 6\n",
    "if num1 % 2 == 0:\n",
    "    print(\"even\")\n",
    "else:\n",
    "    print(\"odd\")"
   ]
  },
  {
   "cell_type": "code",
   "execution_count": null,
   "metadata": {},
   "outputs": [],
   "source": [
    "num1 = 6\n",
    "if num1 % 2 == 1:\n",
    "    print(\"odd\")\n",
    "else:\n",
    "    print(\"even\")"
   ]
  },
  {
   "cell_type": "code",
   "execution_count": null,
   "metadata": {},
   "outputs": [],
   "source": [
    "num1 = 5\n",
    "num2 = 2\n",
    "result_mod = num1 % num2\n",
    "print(result_mod)\n",
    "\n",
    "#shorthand\n",
    "num1 %= num2\n",
    "print(num1)"
   ]
  },
  {
   "cell_type": "code",
   "execution_count": null,
   "metadata": {},
   "outputs": [],
   "source": [
    "num1 = 100\n",
    "num2 = 15\n",
    "\n",
    "result_mod = num1 % num2\n",
    "\n",
    "print(result_mod)"
   ]
  },
  {
   "cell_type": "markdown",
   "metadata": {},
   "source": [
    "##### Exponential"
   ]
  },
  {
   "cell_type": "code",
   "execution_count": null,
   "metadata": {},
   "outputs": [],
   "source": [
    "square = 5**2\n",
    "\n",
    "print(square)\n",
    "\n",
    "square **=2\n",
    "print(square)"
   ]
  },
  {
   "cell_type": "code",
   "execution_count": null,
   "metadata": {},
   "outputs": [],
   "source": [
    "cubed = 3**3\n",
    "print(cubed)\n",
    "\n",
    "cubed **= 3\n",
    "print(cubed)"
   ]
  },
  {
   "cell_type": "markdown",
   "metadata": {},
   "source": [
    "### String Input-Output"
   ]
  },
  {
   "cell_type": "markdown",
   "metadata": {},
   "source": [
    "##### String Assignment"
   ]
  },
  {
   "cell_type": "code",
   "execution_count": null,
   "metadata": {},
   "outputs": [],
   "source": [
    "name = \"Ryan\"\n",
    "\n",
    "dog = \"Golden Retriever\"\n",
    "\n",
    "print(name)\n",
    "print(dog)"
   ]
  },
  {
   "cell_type": "markdown",
   "metadata": {},
   "source": [
    "##### print() <br>\n",
    "<p>Don't forget about end=' '</p>"
   ]
  },
  {
   "cell_type": "code",
   "execution_count": null,
   "metadata": {},
   "outputs": [],
   "source": [
    "print(\"Hello, \",name)\n",
    "\n",
    "print(\"Full name: \", name, end=\" Rhoades\")\n",
    "\n",
    "print('\\n')\n",
    "help(print)"
   ]
  },
  {
   "cell_type": "markdown",
   "metadata": {},
   "source": [
    "##### String Concatenation"
   ]
  },
  {
   "cell_type": "code",
   "execution_count": null,
   "metadata": {
    "scrolled": true
   },
   "outputs": [],
   "source": [
    "first_name = \"Luke\"\n",
    "last_name = \"Skywalker\"\n",
    "full_name = first_name +\" \" + last_name\n",
    "print(full_name)\n",
    "\n",
    "full_name += \" \" + \"Jedi Master\"\n",
    "print(full_name)\n"
   ]
  },
  {
   "cell_type": "code",
   "execution_count": null,
   "metadata": {},
   "outputs": [],
   "source": [
    "my_string = \"I have a dog, his name is\"\n",
    "dog_name = \"Eyo\"\n",
    "\n",
    "dog_sentence = my_string +\" \" + dog_name\n",
    "print(dog_sentence)"
   ]
  },
  {
   "cell_type": "markdown",
   "metadata": {},
   "source": [
    "##### Type Conversion"
   ]
  },
  {
   "cell_type": "code",
   "execution_count": null,
   "metadata": {},
   "outputs": [],
   "source": [
    "# int() - convert type into integer type\n",
    "# float() - convert to float type\n",
    "# str() - convert to string type\n",
    "\n",
    "# not every string can be made into a float or integer, but every integer or\n",
    "# float can be made into a string...\n",
    "\n",
    "x = 12\n",
    "\n",
    "name = \"Ryan\"\n",
    "\n",
    "num_str = \"15\"\n",
    "\n",
    "y = 1.45 "
   ]
  },
  {
   "cell_type": "code",
   "execution_count": null,
   "metadata": {
    "scrolled": true
   },
   "outputs": [],
   "source": [
    "new_x = str(x)\n",
    "new_y = str(y)\n",
    "\n",
    "print(type(new_x))\n",
    "print(type(new_y))"
   ]
  },
  {
   "cell_type": "code",
   "execution_count": null,
   "metadata": {},
   "outputs": [],
   "source": [
    "new_name = int(name)"
   ]
  },
  {
   "cell_type": "markdown",
   "metadata": {},
   "source": [
    "##### input()"
   ]
  },
  {
   "cell_type": "code",
   "execution_count": null,
   "metadata": {
    "scrolled": true
   },
   "outputs": [],
   "source": [
    "name = input(\"What is your name?\")\n",
    "print(\"Your name is,\",name)\n",
    "\n",
    "quest = input (\"What is your quest?\")\n",
    "print (\"Your quest is,\", quest)\n",
    "               \n",
    "color = input(\"What is your favorite color?\")\n",
    "print(\"Your favorite color is,\", color)\n",
    "               "
   ]
  },
  {
   "cell_type": "code",
   "execution_count": null,
   "metadata": {
    "scrolled": true
   },
   "outputs": [],
   "source": [
    "# Input will always return a string, all of the time, forever and ever and ever\n",
    "age = int(input(\"How old are you?\")\n",
    "\n",
    "print(\"Your age is\", age)\n"
   ]
  },
  {
   "cell_type": "code",
   "execution_count": null,
   "metadata": {
    "scrolled": false
   },
   "outputs": [],
   "source": [
    "age +=1\n",
    "print(age)"
   ]
  },
  {
   "cell_type": "markdown",
   "metadata": {},
   "source": [
    "##### format()"
   ]
  },
  {
   "cell_type": "code",
   "execution_count": null,
   "metadata": {},
   "outputs": [],
   "source": [
    "age = int(input(\"How old are you? \"))\n",
    "name = input(\"What is your name? \")\n",
    "\n",
    "result_string = \"Your are {} years old, {} and you are getting wiser!\".format(age,name)\n",
    "print(result_string)\n",
    "\n",
    "result_again= f\"{age} is a great time in life!!!\"\n",
    "print(result_again)\n"
   ]
  },
  {
   "cell_type": "markdown",
   "metadata": {},
   "source": [
    "##### Old Way (python 2)"
   ]
  },
  {
   "cell_type": "code",
   "execution_count": null,
   "metadata": {},
   "outputs": [],
   "source": [
    "result_string2 = \"You are %s and you look great for your age!\" %age\n",
    "print(result_string2)"
   ]
  },
  {
   "cell_type": "markdown",
   "metadata": {},
   "source": [
    "# In-Class Exercise 1 <br>\n",
    "<p>Create a format statement that asks for a car's color, year, make, model and prints out the results</p>"
   ]
  },
  {
   "cell_type": "code",
   "execution_count": null,
   "metadata": {},
   "outputs": [],
   "source": [
    "color = input(\"What is your car's color? \")\n",
    "year = input(\"What is your car's year? \")\n",
    "make = input(\"What is your car's make? \")\n",
    "model = input(\"What is your car's model? \")\n",
    "\n",
    "car_info = f\"Your car's year make and model is: {color}, {year}, {make}, and {model}.\"\n",
    "print(car_info)\n"
   ]
  },
  {
   "cell_type": "code",
   "execution_count": null,
   "metadata": {},
   "outputs": [],
   "source": []
  },
  {
   "cell_type": "code",
   "execution_count": null,
   "metadata": {},
   "outputs": [],
   "source": []
  },
  {
   "cell_type": "markdown",
   "metadata": {},
   "source": [
    "### If Statements"
   ]
  },
  {
   "cell_type": "code",
   "execution_count": null,
   "metadata": {},
   "outputs": [],
   "source": [
    "# Operators Less Than <, Greater Than >, Equal to ==, Not Equal !=\n",
    "# Less Than or Equal To <=, Greater Than or Equal To >=\n",
    "\n",
    "#Truth Tree\n",
    "# T && F = F\n",
    "# T && T = T\n",
    "# T || F = T\n",
    "# F || T = T\n",
    "# F || F = F\n",
    "\n",
    "num1 = 6\n",
    "num2 = 6\n",
    "\n",
    "#if\n",
    "#elif\n",
    "#else\n",
    "\n",
    "if num2 == num1 and num1 == 6:\n",
    "    print(\"Equal Values\")\n",
    "elif num2 == 7:\n",
    "    print(\"That's a 7, baby.\")\n",
    "else:\n",
    "    print(\"That's not a number we're looking for!\")\n"
   ]
  },
  {
   "cell_type": "markdown",
   "metadata": {},
   "source": [
    "##### 'is' keyword"
   ]
  },
  {
   "cell_type": "code",
   "execution_count": null,
   "metadata": {
    "scrolled": true
   },
   "outputs": [],
   "source": [
    "#use the \"is\" keyword checking for same/similar objects (Location),\n",
    "# not same value\n",
    "num3 = 90\n",
    "\n",
    "if num3 == 90:\n",
    "    print(\"That'll do it!\")\n",
    "\n",
    "# if num3 is 90:\n",
    "#     print(\"That'll also do it!\")  ---> This gives us a Syntax Warning, working with literal\n",
    "\n",
    "num2 = 55\n",
    "num3 = num2\n",
    "num4 = num3\n",
    "num2 = 100\n",
    "print(num2)\n",
    "print(num3)\n",
    "print(num4)\n",
    "\n",
    "num3 = num2\n",
    "num4 = num3\n",
    "\n",
    "print(num2)\n",
    "print(num3)\n",
    "print(num4)\n",
    "\n",
    "\n",
    "if num4 is num3:\n",
    "    print(\"SUPER DUPER\")\n",
    "else:\n",
    "    print(\"That is not super duper\")"
   ]
  },
  {
   "cell_type": "code",
   "execution_count": null,
   "metadata": {},
   "outputs": [],
   "source": []
  },
  {
   "cell_type": "markdown",
   "metadata": {},
   "source": [
    "##### 'in' keyword"
   ]
  },
  {
   "cell_type": "code",
   "execution_count": null,
   "metadata": {
    "scrolled": true
   },
   "outputs": [],
   "source": [
    "#Check if a character is in a stringn\n",
    "char_name = \"Boba Fett\"\n",
    "if \"b\" in char_name:\n",
    "    print(\"Beautiful\")\n",
    "else:\n",
    "    print(\"Oh no, that's not here!\")\n",
    "    \n",
    "if \"f\" in char_name.lower():\n",
    "    print(\"It's here.\")\n",
    "else:\n",
    "    print(\"NOPE\")\n"
   ]
  },
  {
   "cell_type": "code",
   "execution_count": null,
   "metadata": {
    "scrolled": true
   },
   "outputs": [],
   "source": [
    "name = \"Ryan\"\n",
    "if 'y' in name:\n",
    "    print(\"yay\")"
   ]
  },
  {
   "cell_type": "markdown",
   "metadata": {},
   "source": [
    "##### 'not in' keyword'"
   ]
  },
  {
   "cell_type": "code",
   "execution_count": null,
   "metadata": {},
   "outputs": [],
   "source": [
    "sega_char = \"Sonic\"\n",
    "sega_char2 = \"Sanic\"\n",
    "\n",
    "if 'a' not in sega_char2.lower():\n",
    "    print(\"This is not Saaanic!\")\n",
    "else:\n",
    "    print(\"This is Saanic!\")"
   ]
  },
  {
   "cell_type": "markdown",
   "metadata": {},
   "source": [
    "# In-Class Exercise 2 <br>\n",
    "<p>Ask user for input, check to see if the letter 'p' is in the input</p>\n",
    "<p>Check for case sensitivity</p>\n"
   ]
  },
  {
   "cell_type": "code",
   "execution_count": null,
   "metadata": {},
   "outputs": [],
   "source": [
    "user_word = input(\"Enter some text. \")\n",
    "\n",
    "if 'p' in user_word.lower():\n",
    "    print(\"The text has 'p'\")\n",
    "else:\n",
    "    print(\"The text doesn't have 'p'\")\n",
    "    "
   ]
  },
  {
   "cell_type": "code",
   "execution_count": null,
   "metadata": {},
   "outputs": [],
   "source": []
  },
  {
   "cell_type": "code",
   "execution_count": null,
   "metadata": {},
   "outputs": [],
   "source": []
  },
  {
   "cell_type": "code",
   "execution_count": null,
   "metadata": {},
   "outputs": [],
   "source": []
  },
  {
   "cell_type": "code",
   "execution_count": null,
   "metadata": {},
   "outputs": [],
   "source": []
  },
  {
   "cell_type": "code",
   "execution_count": null,
   "metadata": {},
   "outputs": [],
   "source": []
  },
  {
   "cell_type": "code",
   "execution_count": null,
   "metadata": {},
   "outputs": [],
   "source": []
  },
  {
   "cell_type": "code",
   "execution_count": null,
   "metadata": {},
   "outputs": [],
   "source": []
  },
  {
   "cell_type": "markdown",
   "metadata": {},
   "source": [
    "## Using 'and'/'or' with If Statements"
   ]
  },
  {
   "cell_type": "code",
   "execution_count": null,
   "metadata": {},
   "outputs": [],
   "source": [
    "#Truth Tree\n",
    "# T && F = F\n",
    "# T && T = T\n",
    "# T || F = T\n",
    "# F || T = T\n",
    "# F || F = F\n",
    "\n",
    "num1 = 15\n",
    "num2 = 3\n",
    "num3 = 10\n",
    "num4 = 3\n",
    "#if with and statement\n",
    "\n",
    "if num1 / 5 == num2 and num3 - 7 == num4:\n",
    "    print(\"True and True\")\n",
    "else:\n",
    "    print(\"one of the above statements was false\")\n",
    "    \n",
    "# if with or statement\n",
    "if num1 > num2 or num3 == num4:\n",
    "    print(\"True and False, False and True, or True and True\")\n",
    "else:\n",
    "    print(\"Both of the above statements are false\")"
   ]
  },
  {
   "cell_type": "markdown",
   "metadata": {},
   "source": [
    "### Elif Statements"
   ]
  },
  {
   "cell_type": "code",
   "execution_count": null,
   "metadata": {},
   "outputs": [],
   "source": [
    "# if condition 1\n",
    "# elif condition 2\n",
    "# elif condition 3\n",
    "# elif condition 4\n",
    "# else (all other condtions)\n",
    "\n",
    "# num  = 13\n",
    "# if num == 13:\n",
    "#     print(\"That is a 13.\")\n",
    "# elif num% 3 == 0:\n",
    "#     print(\"That is divisible by 3.\")\n",
    "\n",
    "first_name = \"Alex\"\n",
    "\n",
    "if first_name == \"Smith\":\n",
    "    print(\"That is a weird first name.\")\n",
    "elif first_name == \"Max\":\n",
    "    print(\"Ah yes, Max is indeed a first name\")\n",
    "elif first_name == \"Ryan\":\n",
    "    print(\"Hello Ryan\")\n",
    "elif first_name == \"Alex\":\n",
    "    print(\"GUTEN MORGEN ALEX\")\n",
    "else:\n",
    "    print(\"That's not a name I care about.\")\n"
   ]
  },
  {
   "cell_type": "markdown",
   "metadata": {},
   "source": [
    "### Else Statements"
   ]
  },
  {
   "cell_type": "code",
   "execution_count": null,
   "metadata": {},
   "outputs": [],
   "source": [
    "first_name = \"Alex\"\n",
    "\n",
    "if first_name == \"Smith\":\n",
    "    print(\"That is a weird first name.\")\n",
    "elif first_name == \"Max\":\n",
    "    print(\"Ah yes, Max is indeed a first name\")\n",
    "elif first_name == \"Ryan\":\n",
    "    print(\"Hello Ryan\")\n",
    "elif first_name == \"Alex\":\n",
    "    print(\"GUTEN MORGEN ALEX\")\n",
    "else:\n",
    "    print(\"That's not a name I care about.\")"
   ]
  },
  {
   "cell_type": "markdown",
   "metadata": {},
   "source": [
    "### String Manipulation"
   ]
  },
  {
   "cell_type": "markdown",
   "metadata": {},
   "source": [
    "#### .lstrip()"
   ]
  },
  {
   "cell_type": "code",
   "execution_count": null,
   "metadata": {},
   "outputs": [],
   "source": [
    "# our_string.lstrip()\n",
    "name = \"                    Lando Calrissian\"\n",
    "print(name)\n",
    "print(name.lstrip())"
   ]
  },
  {
   "cell_type": "markdown",
   "metadata": {},
   "source": [
    "#### .rstrip()"
   ]
  },
  {
   "cell_type": "code",
   "execution_count": null,
   "metadata": {},
   "outputs": [],
   "source": [
    "# our_string.rstrip()\n",
    "name = \"Luke Skywalker     \"\n",
    "print(name)\n",
    "name = name.rstrip()\n",
    "print(name)"
   ]
  },
  {
   "cell_type": "markdown",
   "metadata": {},
   "source": [
    "#### .strip()"
   ]
  },
  {
   "cell_type": "code",
   "execution_count": null,
   "metadata": {},
   "outputs": [],
   "source": [
    "# our_string.strip()\n",
    "name = \"            Luke Skywalker     \"\n",
    "print(name)\n",
    "name = name.strip()\n",
    "print(name)"
   ]
  },
  {
   "cell_type": "code",
   "execution_count": null,
   "metadata": {},
   "outputs": [],
   "source": [
    "#.replace()\n",
    "name = \",r,o,d,,,,,,,,\"\n",
    "\n",
    "name = name.replace(\",\",'')\n",
    "print(name)"
   ]
  },
  {
   "cell_type": "markdown",
   "metadata": {},
   "source": [
    "#### .title()"
   ]
  },
  {
   "cell_type": "code",
   "execution_count": null,
   "metadata": {},
   "outputs": [],
   "source": [
    "#our_String.title()\n",
    "name = \"goofy goober\"\n",
    "print(name.title())"
   ]
  },
  {
   "cell_type": "markdown",
   "metadata": {},
   "source": [
    "#### .upper()"
   ]
  },
  {
   "cell_type": "code",
   "execution_count": null,
   "metadata": {},
   "outputs": [],
   "source": [
    "#makes everything uppercase --> ourString.upper()\n",
    "name = \"Cheetor\"\n",
    "print(name.upper())"
   ]
  },
  {
   "cell_type": "markdown",
   "metadata": {},
   "source": [
    "#### .lower()"
   ]
  },
  {
   "cell_type": "code",
   "execution_count": null,
   "metadata": {
    "scrolled": true
   },
   "outputs": [],
   "source": [
    "#makes everything lowercase --> ourString.lower()\n",
    "name = \"Darth Vader\"\n",
    "print(name.lower())"
   ]
  },
  {
   "cell_type": "markdown",
   "metadata": {},
   "source": [
    "### String Exercise"
   ]
  },
  {
   "cell_type": "markdown",
   "metadata": {},
   "source": [
    "Have a user input a name. Return the name with all white space removed and each first letter capitalized."
   ]
  },
  {
   "cell_type": "code",
   "execution_count": null,
   "metadata": {},
   "outputs": [],
   "source": [
    "name = input(\"Enter a name\")\n",
    "name2 = name.strip()\n",
    "name3 = name2.title()\n",
    "print(name3)"
   ]
  },
  {
   "cell_type": "markdown",
   "metadata": {},
   "source": [
    "### Built-In Functions"
   ]
  },
  {
   "cell_type": "markdown",
   "metadata": {},
   "source": [
    "##### len()"
   ]
  },
  {
   "cell_type": "code",
   "execution_count": null,
   "metadata": {},
   "outputs": [],
   "source": [
    "#works for string and lists\n",
    "#return the length of a give variable as an integer\n",
    "\n",
    "name = \"Max\"\n",
    "length_of_name = len(name)\n",
    "print(length_of_name)\n",
    "print(len(name))\n",
    "\n",
    "my_list = [1,2,3,4,5,6,7]\n",
    "print(len(my_list))"
   ]
  },
  {
   "cell_type": "markdown",
   "metadata": {},
   "source": [
    "##### help()"
   ]
  },
  {
   "cell_type": "code",
   "execution_count": null,
   "metadata": {},
   "outputs": [],
   "source": [
    "# gives a tooltip on a python built-in function\n",
    "help(len)\n",
    "\n",
    "help(print)\n",
    "\n",
    "help(max)\n"
   ]
  },
  {
   "cell_type": "markdown",
   "metadata": {},
   "source": [
    "##### isinstance()"
   ]
  },
  {
   "cell_type": "code",
   "execution_count": null,
   "metadata": {},
   "outputs": [],
   "source": [
    "#check the type of a variable/value - find out what Object Family (data type) it belongs to\n",
    "#isinstance(var,type)\n",
    "\n",
    "print(isinstance(4.5,int))\n",
    "\n",
    "if isinstance(4.5,float):\n",
    "    print(\"This number is a float type.\")\n",
    "else:\n",
    "    print(\"That is not a float.\")\n",
    "    \n",
    "age = input(\"How old are you? \")\n",
    "\n",
    "if isinstance(age,int):\n",
    "    print(age)\n",
    "else:\n",
    "    print(\"That is not an integer\")\n"
   ]
  },
  {
   "cell_type": "code",
   "execution_count": null,
   "metadata": {},
   "outputs": [],
   "source": [
    "print(isinstance(5,int))\n",
    "print(isinstance(5,str))"
   ]
  },
  {
   "cell_type": "markdown",
   "metadata": {},
   "source": [
    "##### abs()"
   ]
  },
  {
   "cell_type": "code",
   "execution_count": null,
   "metadata": {},
   "outputs": [],
   "source": [
    "# |5|\n",
    "# give us the distance to zero\n",
    "\n",
    "print(abs(-5))\n",
    "print(abs(10))\n",
    "print(abs(5-13))"
   ]
  },
  {
   "cell_type": "markdown",
   "metadata": {},
   "source": [
    "### Try and Except"
   ]
  },
  {
   "cell_type": "code",
   "execution_count": null,
   "metadata": {},
   "outputs": [],
   "source": [
    "#us this whenever you expect to encounter a bug - so that the error doesn't cause the program to stop\n",
    "#loggin gracefull error messages to gently nudge the user in the right direction\n",
    "\n",
    "try:\n",
    "    age = int(input(\"How old are you?\"))\n",
    "    print(f\"Happy Birthday - you were {age} and now you are {age + 1}\")\n",
    "except:\n",
    "          print(\"Please enter in a number, not text\")"
   ]
  },
  {
   "cell_type": "code",
   "execution_count": null,
   "metadata": {},
   "outputs": [],
   "source": [
    "    age = int(input(\"How old are you?\"))\n",
    "    print(f\"Happy Birthday - you were {age} and now you are {age + 1}\")"
   ]
  },
  {
   "cell_type": "markdown",
   "metadata": {},
   "source": [
    "## Exercise #1 <br>\n",
    "<p>Accept two user ages as inputs and give us the difference between them. (The Answer should always be a positive output)</p>"
   ]
  },
  {
   "cell_type": "code",
   "execution_count": 22,
   "metadata": {},
   "outputs": [
    {
     "name": "stdout",
     "output_type": "stream",
     "text": [
      "User No. 1, please enter your age, in whole years. 56\n",
      "User No. 2, please enter your name, in whole years. 23\n",
      "You two are 33 years apart.\n"
     ]
    }
   ],
   "source": [
    "try:\n",
    "    user1_age = int(input(\"User No. 1, please enter your age, in whole years. \"))\n",
    "    user2_age = int(input(\"User No. 2, please enter your name, in whole years. \"))\n",
    "    difference = abs(user1_age - user2_age)    \n",
    "    print(f\"You two are {difference} years apart.\")\n",
    "except:\n",
    "    print(\"You should enter a whole number for your age - in years.  Please try again.\")\n",
    "\n",
    "\n",
    "    \n",
    "\n",
    "\n",
    "        \n"
   ]
  },
  {
   "cell_type": "markdown",
   "metadata": {},
   "source": [
    "## Exercise #2 \n",
    "<p>Accept 3 user inputs for variables named noun, verb and adjective. Print out a formatted string using the outputs.</p>"
   ]
  },
  {
   "cell_type": "code",
   "execution_count": 21,
   "metadata": {},
   "outputs": [
    {
     "name": "stdout",
     "output_type": "stream",
     "text": [
      "Enter any noun.fish\n",
      "Enter any verb.running\n",
      "Enter any adjective.conspicuous\n",
      "Have you ever seen a conspicuous fish running by the river?\n"
     ]
    }
   ],
   "source": [
    "noun = input (\"Enter any noun.\")\n",
    "verb = input (\"Enter any verb.\")\n",
    "adjective = input (\"Enter any adjective.\")\n",
    "\n",
    "print(f\"Have you ever seen a {adjective} {noun} {verb} by the river?\")\n"
   ]
  },
  {
   "cell_type": "markdown",
   "metadata": {},
   "source": [
    "## Exercise #3 <br>\n",
    "<p>Take in a users input for their age, if they are younger than 18 print kids, if they're 18 to 65 print adults, else print seniors</p>"
   ]
  },
  {
   "cell_type": "code",
   "execution_count": 20,
   "metadata": {},
   "outputs": [
    {
     "name": "stdout",
     "output_type": "stream",
     "text": [
      "Please enter your age, in whole years. 41\n",
      "Your'e an adult.\n"
     ]
    }
   ],
   "source": [
    "try:\n",
    "    user_age = int(input(\"Please enter your age, in whole years. \"))\n",
    "    if user_age >= 65:\n",
    "        print(\"You're a senior citizen.\")\n",
    "    elif user_age >= 18 and user_age < 65:\n",
    "        print(\"Your'e an adult.\")\n",
    "    elif user_age >= 0 and user_age < 18:\n",
    "        print(\"You're a child.\")\n",
    "    else:\n",
    "        print(\"Please enter a positive number for your age.\")\n",
    "except:\n",
    "    print(\"You should enter a whole number for your age - in years.  Please try again.\")"
   ]
  },
  {
   "cell_type": "markdown",
   "metadata": {},
   "source": [
    "## Exercise #4\n",
    "<p>Take in a number from a user input output the number squared.</p>"
   ]
  },
  {
   "cell_type": "code",
   "execution_count": 13,
   "metadata": {},
   "outputs": [
    {
     "name": "stdout",
     "output_type": "stream",
     "text": [
      "Please enter a number that you'd like squared. 5.67\n",
      "32.1489\n"
     ]
    }
   ],
   "source": [
    "try:\n",
    "    user_number = float(input(\"Please enter a number that you'd like squared. \"))\n",
    "    result = user_number**2\n",
    "    print(result)\n",
    "except:\n",
    "    print(\"It seems you didn't enter a number. Please try again.\")\n",
    "\n",
    "    \n"
   ]
  },
  {
   "cell_type": "markdown",
   "metadata": {},
   "source": [
    "## Exercise #5\n",
    "<p>Check the below variables' length. If the length of the word is greater than 5 output True, if it is less than 5, output False<p>\n"
   ]
  },
  {
   "cell_type": "code",
   "execution_count": 19,
   "metadata": {},
   "outputs": [
    {
     "name": "stdout",
     "output_type": "stream",
     "text": [
      "dolphin has more than 5 letters, True.\n",
      "dog has less than 5 letters, False.\n",
      "panini has more than 5 letters, True.\n",
      "trees has 5 letters. Neither False or True\n",
      "pie has less than 5 letters, False.\n",
      "bulbasaur has more than 5 letters, True.\n"
     ]
    }
   ],
   "source": [
    "word1 = \"panini\"\n",
    "word2 = \"bulbasaur\"\n",
    "word3 = \"pie\"\n",
    "word4 = \"dolphin\"\n",
    "word5 = \"dog\"\n",
    "word6 = \"trees\"\n",
    "\n",
    "word_list = {word1, word2, word3, word4, word5, word6}\n",
    "# print(word_list)\n",
    "\n",
    "for word in word_list:\n",
    "    if len(word) == 5:\n",
    "        print(f\"{word} has 5 letters. Neither False or True\")\n",
    "    elif len(word) > 5:\n",
    "        print(f\"{word} has more than 5 letters, True.\")\n",
    "    elif len(word) < 5:\n",
    "        print(f\"{word} has less than 5 letters, False.\")\n",
    "    else:\n",
    "        print(\"It seems something unexpected happened.  Please try again\")\n",
    "\n",
    "\n",
    "\n"
   ]
  }
 ],
 "metadata": {
  "kernelspec": {
   "display_name": "Python 3 (ipykernel)",
   "language": "python",
   "name": "python3"
  },
  "language_info": {
   "codemirror_mode": {
    "name": "ipython",
    "version": 3
   },
   "file_extension": ".py",
   "mimetype": "text/x-python",
   "name": "python",
   "nbconvert_exporter": "python",
   "pygments_lexer": "ipython3",
   "version": "3.10.10"
  }
 },
 "nbformat": 4,
 "nbformat_minor": 2
}
